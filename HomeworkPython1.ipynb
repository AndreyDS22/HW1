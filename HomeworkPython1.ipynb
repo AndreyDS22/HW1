{
 "cells": [
  {
   "cell_type": "markdown",
   "metadata": {},
   "source": [
    "#Task 1\n"
   ]
  },
  {
   "cell_type": "code",
   "execution_count": null,
   "metadata": {},
   "outputs": [],
   "source": [
    "\n",
    "phrase_1 = input()\n",
    "phrase_2 = input()\n",
    "if len (phrase_1) > len (phrase_2):\n",
    "    print ('Фраза 1 длиннее фразы 2')\n",
    "elif len (phrase_2) > len (phrase_1):\n",
    "    print ('Фраза 2 длиннее фразы 1')\n",
    "else:\n",
    "    print ('Фразы равной длины')"
   ]
  },
  {
   "cell_type": "markdown",
   "metadata": {},
   "source": [
    "# Task 2"
   ]
  },
  {
   "cell_type": "code",
   "execution_count": 16,
   "metadata": {},
   "outputs": [
    {
     "ename": "SyntaxError",
     "evalue": "invalid syntax (<ipython-input-16-e091edc7d424>, line 3)",
     "output_type": "error",
     "traceback": [
      "\u001b[1;36m  File \u001b[1;32m\"<ipython-input-16-e091edc7d424>\"\u001b[1;36m, line \u001b[1;32m3\u001b[0m\n\u001b[1;33m    print(\"Високосный\")\u001b[0m\n\u001b[1;37m    ^\u001b[0m\n\u001b[1;31mSyntaxError\u001b[0m\u001b[1;31m:\u001b[0m invalid syntax\n"
     ]
    }
   ],
   "source": [
    "year = int(input('ввести год')\n",
    "if (year % 4 == 0) and (year % 100 != 0) or (year % 400 == 0)    \n",
    "    print (\"Високосный\")\n",
    "else:\n",
    "    print ('Обычный')\n"
   ]
  },
  {
   "cell_type": "markdown",
   "metadata": {},
   "source": [
    "#Task 3"
   ]
  },
  {
   "cell_type": "code",
   "execution_count": 17,
   "metadata": {},
   "outputs": [
    {
     "name": "stdout",
     "output_type": "stream",
     "text": [
      "Ввести день:14\n",
      "Ввести месяц:05\n",
      "Ваш знак зодиака: Телец\n"
     ]
    }
   ],
   "source": [
    "date = int(input('Ввести день:'))\n",
    "month = int(input('Ввести месяц:'))\n",
    "\n",
    "if (date >= 21 and date <= 31 and month == 3) or (month == 4 and date >= 1 and date <= 19):\n",
    "    print(\"Ваш знак зодиака: Овен\")\n",
    "elif (date >= 20 and date <= 30 and month == 4) or (month == 5 and date >= 1 and date <= 20):\n",
    "    print(\"Ваш знак зодиака: Телец\")\n",
    "elif (date >= 21 and date <= 31 and month == 5) or (month == 6 and date >= 1 and date <= 21):\n",
    "    print(\"Ваш знак зодиака: :Близнецы\")\n",
    "elif (date >= 22 and date <= 30 and month == 6) or (month == 7 and date >= 1 and date <= 22):\n",
    "    print(\"Ваш знак зодиака: Рак\")\n",
    "elif (date >= 23 and date <= 31 and month == 7) or (month == 8 and date >= 1 and date <= 22):\n",
    "    print(\"Ваш знак зодиака: Лев\")\n",
    "elif (date >= 23 and date <= 31 and month == 8) or (month == 9 and date >= 1 and date <= 22):\n",
    "    print(\"Ваш знак зодиака: Дева\")\n",
    "elif (date >= 23 and date <= 30 and month == 9) or (month == 10 and date >= 1 and date <= 23):\n",
    "    print(\"Ваш знак зодиака: Весы\")\n",
    "elif (date >= 24 and date <= 31 and month == 10) or (month == 11 and date >= 1 and date <= 22):\n",
    "    print(\"Ваш знак зодиака: Скорпион\")\n",
    "elif (date >= 23 and date <= 30 and month == 11) or (month == 12 and date >= 1 and date <= 21):\n",
    "    print(\"Ваш знак зодиака: Стрелец\")\n",
    "elif (date >= 22 and date <= 31 and month == 12) or (month == 1 and date >= 1 and date <= 20):\n",
    "    print(\"Ваш знак зодиака: Козерог\")\n",
    "elif (date >= 21 and date <= 31 and month == 1) or(month == 2 and date >= 1 and date <= 18):\n",
    "    print(\"Ваш знак зодиака: Водолей\")\n",
    "elif (date >= 19 and date <= 29 and month == 2) or(month == 3 and date >= 1 and date <= 20):\n",
    "    print(\"Ваш знак зодиака: Рыбы\")"
   ]
  },
  {
   "cell_type": "markdown",
   "metadata": {},
   "source": [
    "#Task 4"
   ]
  },
  {
   "cell_type": "code",
   "execution_count": 18,
   "metadata": {},
   "outputs": [
    {
     "name": "stdout",
     "output_type": "stream",
     "text": [
      "40\n",
      "50\n",
      "60\n",
      "Коробка №2\n"
     ]
    }
   ],
   "source": [
    "width = int(input())\n",
    "length = int(input())\n",
    "heigth = int(input())\n",
    "if (width < 15 and length < 15 and height < 15):\n",
    "    print ('Коробка №1')\n",
    "elif (50 > width > 15 or 50 > length > 15 or 50 > height > 15):\n",
    "    print ('Коробка №2')\n",
    "elif (length > 200):\n",
    "    print ('Упаковка для лыж')\n",
    "else:\n",
    "    print ('Стандартная коробка №3')"
   ]
  },
  {
   "cell_type": "code",
   "execution_count": null,
   "metadata": {},
   "outputs": [],
   "source": []
  }
 ],
 "metadata": {
  "kernelspec": {
   "display_name": "Python 3",
   "language": "python",
   "name": "python3"
  },
  "language_info": {
   "codemirror_mode": {
    "name": "ipython",
    "version": 3
   },
   "file_extension": ".py",
   "mimetype": "text/x-python",
   "name": "python",
   "nbconvert_exporter": "python",
   "pygments_lexer": "ipython3",
   "version": "3.8.3"
  }
 },
 "nbformat": 4,
 "nbformat_minor": 4
}
